{
  "cells": [
    {
      "cell_type": "markdown",
      "metadata": {},
      "source": [
        "---\n",
        "title: \"Ibis\"\n",
        "description: \"the portable Python dataframe library\"\n",
        "repo-actions: false\n",
        "code-annotations: hover\n",
        "twitter-card:\n",
        "  image: logo.png\n",
        "format:\n",
        "  html:\n",
        "    toc: false\n",
        "    include-in-header:\n",
        "      text: |\n",
        "        <script data-goatcounter=\"https://ibis.goatcounter.com/count\"\n",
        "                async src=\"//gc.zgo.at/count.js\"></script>\n",
        "about:\n",
        "  id: about\n",
        "  template: jolla\n",
        "  image: logo.svg\n",
        "  links:\n",
        "    - icon: info-circle\n",
        "      href: why.qmd\n",
        "    - icon: download\n",
        "      href: install.qmd\n",
        "    - icon: book\n",
        "      href: tutorials/getting_started.qmd\n",
        "    - icon: postcard\n",
        "      text: Blog\n",
        "      href: posts.qmd\n",
        "    - icon: github\n",
        "      text: GitHub\n",
        "      href: https://github.com/ibis-project\n",
        "    - icon: zulip\n",
        "      href: https://ibis-project.zulipchat.com\n",
        "      text: Chat\n",
        "    - icon: rss\n",
        "      text: RSS\n",
        "      href: https://ibis-project.org/posts.xml\n",
        "---\n",
        "\n",
        "\n",
        "::: {#about}\n",
        ":::\n",
        "\n",
        "\n",
        "{{< pagebreak >}}\n",
        "\n",
        "\n",
        "::: {.column-page}\n",
        "\n",
        "### An open source dataframe library that works with any data system\n",
        "\n",
        "- Use the same API for 20+ backends\n",
        "- Fast local dataframes with embedded DuckDB (default), Polars, or DataFusion\n",
        "- Iterate locally and deploy remotely by changing a single line of code\n",
        "- Compose SQL and Python dataframe code, bridging the gap between data engineering and data science\n"
      ],
      "id": "ed0786a1"
    },
    {
      "cell_type": "code",
      "metadata": {},
      "source": [
        "#| code-fold: true\n",
        "#| echo: false\n",
        "\n",
        "import ibis\n",
        "\n",
        "t = ibis.examples.penguins.fetch()\n",
        "t.to_parquet(\"penguins.parquet\")"
      ],
      "id": "ff0135e3",
      "execution_count": null,
      "outputs": []
    },
    {
      "cell_type": "markdown",
      "metadata": {},
      "source": [
        "## Ibis: the portable Python dataframe library\n",
        "\n",
        "Ibis offers a familiar local dataframe experience with outstanding performance,\n",
        "using [DuckDB](https://duckdb.org) by default.\n"
      ],
      "id": "bf22aefc"
    },
    {
      "cell_type": "code",
      "metadata": {},
      "source": [
        "import ibis  # <1>\n",
        "\n",
        "ibis.options.interactive = True  # <2>\n",
        "\n",
        "t = ibis.read_parquet(\"penguins.parquet\", table_name=\"penguins\")  # <3>\n",
        "t.head(3)  # <4>"
      ],
      "id": "74b8a5ce",
      "execution_count": null,
      "outputs": []
    },
    {
      "cell_type": "markdown",
      "metadata": {},
      "source": [
        "1. Import Ibis.\n",
        "2. Enable interactive mode for exploratory data analysis (EDA) or demos.\n",
        "3. Read a Parquet file and specify a table name (optional).\n",
        "4. Display the first few rows of the table.\n",
        "\n",
        "Iterate and explore data locally:\n"
      ],
      "id": "d4fb3099"
    },
    {
      "cell_type": "code",
      "metadata": {},
      "source": [
        "grouped = t.group_by(\"species\", \"island\").agg(count=t.count()).order_by(\"count\")  # <1>\n",
        "grouped  # <2>"
      ],
      "id": "64a6337c",
      "execution_count": null,
      "outputs": []
    },
    {
      "cell_type": "markdown",
      "metadata": {},
      "source": [
        "1. Transform the table.\n",
        "2. Display the transformed table.\n",
        "\n",
        "### One API for 20+ backends\n",
        "\n",
        "Use the same dataframe API for 20+ backends:\n"
      ],
      "id": "56b966ee"
    },
    {
      "cell_type": "code",
      "metadata": {},
      "source": [
        "#| code-fold: true\n",
        "#| echo: false\n",
        "\n",
        "from backends_sankey import fig\n",
        "fig.show()"
      ],
      "id": "a6fa251d",
      "execution_count": null,
      "outputs": []
    },
    {
      "cell_type": "markdown",
      "metadata": {},
      "source": [
        "For example:\n",
        "\n",
        "::: {.panel-tabset}\n",
        "\n",
        "## DuckDB\n"
      ],
      "id": "b9303e70"
    },
    {
      "cell_type": "code",
      "metadata": {},
      "source": [
        "con = ibis.connect(\"duckdb://\")"
      ],
      "id": "9905dc36",
      "execution_count": null,
      "outputs": []
    },
    {
      "cell_type": "code",
      "metadata": {},
      "source": [
        "t = con.read_parquet(\"penguins.parquet\")\n",
        "t.head(3)"
      ],
      "id": "431e6e36",
      "execution_count": null,
      "outputs": []
    },
    {
      "cell_type": "code",
      "metadata": {},
      "source": [
        "t.group_by(\"species\", \"island\").agg(count=t.count()).order_by(\"count\")"
      ],
      "id": "0c4908a5",
      "execution_count": null,
      "outputs": []
    },
    {
      "cell_type": "markdown",
      "metadata": {},
      "source": [
        "## Polars\n"
      ],
      "id": "54493c06"
    },
    {
      "cell_type": "code",
      "metadata": {},
      "source": [
        "con = ibis.connect(\"polars://\")"
      ],
      "id": "8c53e33f",
      "execution_count": null,
      "outputs": []
    },
    {
      "cell_type": "code",
      "metadata": {},
      "source": [
        "t = con.read_parquet(\"penguins.parquet\")\n",
        "t.head(3)"
      ],
      "id": "df630a2d",
      "execution_count": null,
      "outputs": []
    },
    {
      "cell_type": "code",
      "metadata": {},
      "source": [
        "t.group_by(\"species\", \"island\").agg(count=t.count()).order_by(\"count\")"
      ],
      "id": "39c8749e",
      "execution_count": null,
      "outputs": []
    },
    {
      "cell_type": "markdown",
      "metadata": {},
      "source": [
        "## DataFusion\n"
      ],
      "id": "0ce141e7"
    },
    {
      "cell_type": "code",
      "metadata": {},
      "source": [
        "con = ibis.connect(\"datafusion://\")"
      ],
      "id": "8f9c4f57",
      "execution_count": null,
      "outputs": []
    },
    {
      "cell_type": "code",
      "metadata": {},
      "source": [
        "t = con.read_parquet(\"penguins.parquet\")\n",
        "t.head(3)"
      ],
      "id": "a2b445f1",
      "execution_count": null,
      "outputs": []
    },
    {
      "cell_type": "code",
      "metadata": {},
      "source": [
        "t.group_by(\"species\", \"island\").agg(count=t.count()).order_by(\"count\")"
      ],
      "id": "f4829de7",
      "execution_count": null,
      "outputs": []
    },
    {
      "cell_type": "markdown",
      "metadata": {},
      "source": [
        "## PySpark\n"
      ],
      "id": "6dd26dfe"
    },
    {
      "cell_type": "code",
      "metadata": {},
      "source": [
        "con = ibis.connect(\"pyspark://\")"
      ],
      "id": "c9de5988",
      "execution_count": null,
      "outputs": []
    },
    {
      "cell_type": "code",
      "metadata": {},
      "source": [
        "t = con.read_parquet(\"penguins.parquet\")\n",
        "t.head(3)"
      ],
      "id": "6ada4289",
      "execution_count": null,
      "outputs": []
    },
    {
      "cell_type": "code",
      "metadata": {},
      "source": [
        "t.group_by(\"species\", \"island\").agg(count=t.count()).order_by(\"count\")"
      ],
      "id": "f366a02d",
      "execution_count": null,
      "outputs": []
    },
    {
      "cell_type": "markdown",
      "metadata": {},
      "source": [
        ":::\n",
        "\n",
        "This allows you to iterate locally and deploy remotely by changing a single line\n",
        "of code. For instance, develop locally with DuckDB and deploy remotely to\n",
        "BigQuery. Or, using any combination of backends that meet your requirements.\n",
        "\n",
        "### Python + SQL: better together\n",
        "\n",
        "Ibis works by decoupling the dataframe API from the backend execution. Most\n",
        "backends support a SQL dialect, which Ibis compiles its expressions into using\n",
        "[SQLGlot](https://github.com/tobymao/sqlglot). You can inspect the SQL that Ibis\n",
        "generates for any SQL backend:\n"
      ],
      "id": "62ea0574"
    },
    {
      "cell_type": "code",
      "metadata": {},
      "source": [
        "ibis.to_sql(grouped)  # <1>"
      ],
      "id": "1293480f",
      "execution_count": null,
      "outputs": []
    },
    {
      "cell_type": "markdown",
      "metadata": {},
      "source": [
        "1. Display the SQL generated from the table expression.\n",
        "\n",
        "And use SQL strings directly, mixing and matching with Python dataframe code:\n"
      ],
      "id": "19b8598d"
    },
    {
      "cell_type": "code",
      "metadata": {},
      "source": [
        "#| code-fold: true\n",
        "#| echo: false\n",
        "\n",
        "t = ibis.read_parquet(\"penguins.parquet\", table_name=\"penguins\")"
      ],
      "id": "3497a3d4",
      "execution_count": null,
      "outputs": []
    },
    {
      "cell_type": "code",
      "metadata": {},
      "source": [
        "t.sql(  # <1>\n",
        "    \"SELECT species, island, COUNT(*) AS count FROM penguins GROUP BY species, island\"  # <1>\n",
        ").order_by(\"count\")  # <2>"
      ],
      "id": "c2cf2636",
      "execution_count": null,
      "outputs": []
    },
    {
      "cell_type": "markdown",
      "metadata": {},
      "source": [
        "1. Transform the table using SQL.\n",
        "2. Then, transform the table using Python dataframe code.\n",
        "\n",
        "This allows you to combine the flexibility of Python with the scale and\n",
        "performance of modern SQL.\n",
        "\n",
        "::: {.text-center}\n",
        "## Users say...\n",
        ":::\n",
        "\n",
        "::: {.index-grid}\n",
        "\n",
        "::: {.index-g-col-4 .card .border-light .mb-3 .text-center}\n",
        "::: {.card-body}\n",
        "[\"Ibis is amazing, there is so much bikeshedding out there that this library\n",
        "improves upon. I love that now we can empower any visualization with nearly\n",
        "any dataset! Big thanks to those who have contributed!\"]{.card-text}\n",
        "\n",
        "[Nick Shook]{.blockquote-footer}\n",
        ":::\n",
        ":::\n",
        "\n",
        "::: {.index-g-col-4 .card .border-light .mb-3 .text-center}\n",
        "::: {.card-body}\n",
        "\"I now have Ibis code that runs PySpark in my Databricks environment and Polars\n",
        "on my laptop which is pretty slick 🔥\"\n",
        "\n",
        "[Mark Druffel]{.blockquote-footer}\n",
        ":::\n",
        ":::\n",
        "\n",
        "::: {.index-g-col-4 .card .border-light .mb-3 .text-center}\n",
        "::: {.card-body}\n",
        "\"I love that with Ibis, I can use SQL for the heavy lifting or aggregations and\n",
        "then switch to a dataframe-like API for the type of dynamic transformations that\n",
        "would otherwise be tedious to do in pure SQL.\"\n",
        "\n",
        "[Daniel Kim]{.blockquote-footer}\n",
        ":::\n",
        ":::\n",
        "\n",
        ":::\n",
        "\n",
        "::: {.text-center}\n",
        "## Get started with Ibis\n",
        ":::\n",
        "\n",
        "::: {.index-grid .text-center}\n",
        "\n",
        "::: {.index-g-col-4}\n",
        "[Why Ibis?](why.qmd){.btn .btn-primary .w-100}\n",
        ":::\n",
        "\n",
        "::: {.index-g-col-4}\n",
        "[Tutorial: getting started](tutorials/getting_started.qmd){.btn .btn-primary .w-100}\n",
        ":::\n",
        "\n",
        "::: {.index-g-col-4}\n",
        "[API reference](/reference){.btn .btn-primary .w-100}\n",
        ":::\n",
        "\n",
        ":::\n",
        "\n",
        ":::"
      ],
      "id": "d62653f1"
    }
  ],
  "metadata": {
    "kernelspec": {
      "name": "python3",
      "language": "python",
      "display_name": "Python 3 (ipykernel)",
      "path": "C:\\Users\\robo\\AppData\\Roaming\\Python\\share\\jupyter\\kernels\\python3"
    }
  },
  "nbformat": 4,
  "nbformat_minor": 5
}